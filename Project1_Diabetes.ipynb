{
 "cells": [
  {
   "cell_type": "code",
   "execution_count": 1,
   "id": "6a0ca329",
   "metadata": {},
   "outputs": [
    {
     "name": "stdout",
     "output_type": "stream",
     "text": [
      "Step Completed\n"
     ]
    }
   ],
   "source": [
    "# Step 1\n",
    "from sklearn.datasets import load_diabetes\n",
    "\n",
    "diabetes = load_diabetes()\n",
    "df_X = diabetes.data\n",
    "df_y = diabetes.target\n",
    "\n",
    "print(\"Step Completed\")"
   ]
  },
  {
   "cell_type": "code",
   "execution_count": 2,
   "id": "39af62b9",
   "metadata": {},
   "outputs": [
    {
     "name": "stdout",
     "output_type": "stream",
     "text": [
      "<class 'numpy.ndarray'> (442, 10)\n",
      "<class 'numpy.ndarray'> (442,)\n"
     ]
    }
   ],
   "source": [
    "# Step 2, 3\n",
    "print(type(df_X), df_X.shape)\n",
    "print(type(df_y), df_y.shape)"
   ]
  },
  {
   "cell_type": "code",
   "execution_count": 3,
   "id": "da85d6b7",
   "metadata": {},
   "outputs": [
    {
     "name": "stdout",
     "output_type": "stream",
     "text": [
      "(353, 10) (353,)\n",
      "(89, 10) (353,)\n",
      "feature 0 : age\n",
      "feature 1 : sex\n",
      "feature 2 : bmi\n",
      "feature 3 : bp\n",
      "feature 4 : s1\n",
      "feature 5 : s2\n",
      "feature 6 : s3\n",
      "feature 7 : s4\n",
      "feature 8 : s5\n",
      "feature 9 : s6\n"
     ]
    }
   ],
   "source": [
    "# Step 4\n",
    "from sklearn.model_selection import train_test_split\n",
    "\n",
    "# Split data into a train and test set\n",
    "X_train, X_test, y_train, y_test = train_test_split(df_X, df_y, test_size=0.2, random_state=42)\n",
    "\n",
    "print(X_train.shape, y_train.shape)\n",
    "print(X_test.shape, y_train.shape)\n",
    "\n",
    "for i, feature_name in enumerate(diabetes.feature_names):\n",
    "  print(f'feature {i} : {feature_name}')"
   ]
  },
  {
   "cell_type": "code",
   "execution_count": 4,
   "id": "8b1fdd70",
   "metadata": {},
   "outputs": [],
   "source": [
    "# Step 5\n",
    "import numpy as np\n",
    "\n",
    "num_features = 10\n",
    "W = np.random.rand(num_features)\n",
    "b = np.random.rand()\n",
    "\n",
    "def model(X, W, b):\n",
    "    pred = 0\n",
    "    for i in range(num_features):\n",
    "        pred += X[:, i] * W[i]\n",
    "    pred += b\n",
    "    \n",
    "    return pred"
   ]
  },
  {
   "cell_type": "code",
   "execution_count": 5,
   "id": "70b56187",
   "metadata": {},
   "outputs": [],
   "source": [
    "# Step 6\n",
    "def MSE(a, b):\n",
    "    mse = ((a - b) ** 2).mean()\n",
    "    \n",
    "    return mse\n",
    "\n",
    "def loss(X, W, b, y):\n",
    "    pred = model(X, W, b)\n",
    "    loss = MSE(pred, y)\n",
    "    \n",
    "    return loss"
   ]
  },
  {
   "cell_type": "code",
   "execution_count": 6,
   "id": "7c1e6647",
   "metadata": {},
   "outputs": [
    {
     "name": "stdout",
     "output_type": "stream",
     "text": [
      "dW: [-1.85302013 -0.10373444 -4.97573185 -3.71177902 -1.30303699 -0.89130836\n",
      "  3.11193446 -3.26832589 -4.47511535 -3.51373229]\n",
      "db: -307.4578218306856\n"
     ]
    }
   ],
   "source": [
    "# Step 7\n",
    "def delop(X, W, b, y):\n",
    "    N = len(y) # N is the number of samples\n",
    "    \n",
    "    y_pred = model(X, W, b)\n",
    "    dW = 1 / N * 2 * X.T.dot(y_pred - y)\n",
    "    db = 2 * (y_pred - y).mean()\n",
    "    \n",
    "    return dW, db\n",
    "\n",
    "# Testing the gradient func\n",
    "dW, db = delop(X_train, W, b, y_train)\n",
    "print(\"dW:\", dW)\n",
    "print(\"db:\", db)"
   ]
  },
  {
   "cell_type": "code",
   "execution_count": 7,
   "id": "af877359",
   "metadata": {},
   "outputs": [],
   "source": [
    "# Step 8\n",
    "LEARNING_RATE = 0.5"
   ]
  },
  {
   "cell_type": "code",
   "execution_count": 8,
   "id": "1bfcffdc",
   "metadata": {},
   "outputs": [
    {
     "name": "stdout",
     "output_type": "stream",
     "text": [
      "Iteration 0 : Loss 6021.4859\n",
      "Iteration 10 : Loss 5658.0888\n",
      "Iteration 20 : Loss 5347.4264\n",
      "Iteration 30 : Loss 5081.1439\n",
      "Iteration 40 : Loss 4852.2501\n",
      "Iteration 50 : Loss 4654.8926\n",
      "Iteration 60 : Loss 4484.1703\n",
      "Iteration 70 : Loss 4335.9769\n",
      "Iteration 80 : Loss 4206.8698\n",
      "Iteration 90 : Loss 4093.9619\n",
      "Iteration 100 : Loss 3994.8295\n",
      "Iteration 110 : Loss 3907.4370\n",
      "Iteration 120 : Loss 3830.0732\n",
      "Iteration 130 : Loss 3761.2979\n",
      "Iteration 140 : Loss 3699.8982\n",
      "Iteration 150 : Loss 3644.8512\n",
      "Iteration 160 : Loss 3595.2931\n",
      "Iteration 170 : Loss 3550.4936\n",
      "Iteration 180 : Loss 3509.8339\n",
      "Iteration 190 : Loss 3472.7894\n",
      "Iteration 200 : Loss 3438.9138\n",
      "Iteration 210 : Loss 3407.8270\n",
      "Iteration 220 : Loss 3379.2046\n",
      "Iteration 230 : Loss 3352.7688\n",
      "Iteration 240 : Loss 3328.2813\n",
      "Iteration 250 : Loss 3305.5368\n",
      "Iteration 260 : Loss 3284.3584\n",
      "Iteration 270 : Loss 3264.5925\n",
      "Iteration 280 : Loss 3246.1059\n",
      "Iteration 290 : Loss 3228.7822\n",
      "Iteration 300 : Loss 3212.5195\n",
      "Iteration 310 : Loss 3197.2284\n",
      "Iteration 320 : Loss 3182.8298\n",
      "Iteration 330 : Loss 3169.2538\n",
      "Iteration 340 : Loss 3156.4381\n",
      "Iteration 350 : Loss 3144.3269\n",
      "Iteration 360 : Loss 3132.8705\n",
      "Iteration 370 : Loss 3122.0239\n",
      "Iteration 380 : Loss 3111.7464\n",
      "Iteration 390 : Loss 3102.0012\n",
      "Iteration 400 : Loss 3092.7546\n",
      "Iteration 410 : Loss 3083.9760\n",
      "Iteration 420 : Loss 3075.6372\n",
      "Iteration 430 : Loss 3067.7123\n",
      "Iteration 440 : Loss 3060.1774\n",
      "Iteration 450 : Loss 3053.0103\n",
      "Iteration 460 : Loss 3046.1906\n",
      "Iteration 470 : Loss 3039.6992\n",
      "Iteration 480 : Loss 3033.5183\n",
      "Iteration 490 : Loss 3027.6313\n",
      "Iteration 500 : Loss 3022.0226\n",
      "Iteration 510 : Loss 3016.6778\n",
      "Iteration 520 : Loss 3011.5832\n",
      "Iteration 530 : Loss 3006.7259\n",
      "Iteration 540 : Loss 3002.0939\n",
      "Iteration 550 : Loss 2997.6759\n",
      "Iteration 560 : Loss 2993.4610\n",
      "Iteration 570 : Loss 2989.4392\n",
      "Iteration 580 : Loss 2985.6010\n",
      "Iteration 590 : Loss 2981.9373\n",
      "Iteration 600 : Loss 2978.4395\n",
      "Iteration 610 : Loss 2975.0997\n",
      "Iteration 620 : Loss 2971.9100\n",
      "Iteration 630 : Loss 2968.8634\n",
      "Iteration 640 : Loss 2965.9529\n",
      "Iteration 650 : Loss 2963.1719\n",
      "Iteration 660 : Loss 2960.5144\n",
      "Iteration 670 : Loss 2957.9744\n",
      "Iteration 680 : Loss 2955.5464\n",
      "Iteration 690 : Loss 2953.2251\n",
      "Iteration 700 : Loss 2951.0055\n",
      "Iteration 710 : Loss 2948.8827\n",
      "Iteration 720 : Loss 2946.8524\n",
      "Iteration 730 : Loss 2944.9101\n",
      "Iteration 740 : Loss 2943.0517\n",
      "Iteration 750 : Loss 2941.2735\n",
      "Iteration 760 : Loss 2939.5716\n",
      "Iteration 770 : Loss 2937.9425\n",
      "Iteration 780 : Loss 2936.3830\n",
      "Iteration 790 : Loss 2934.8897\n",
      "Iteration 800 : Loss 2933.4598\n",
      "Iteration 810 : Loss 2932.0902\n",
      "Iteration 820 : Loss 2930.7783\n",
      "Iteration 830 : Loss 2929.5214\n",
      "Iteration 840 : Loss 2928.3170\n",
      "Iteration 850 : Loss 2927.1628\n",
      "Iteration 860 : Loss 2926.0565\n",
      "Iteration 870 : Loss 2924.9960\n",
      "Iteration 880 : Loss 2923.9792\n",
      "Iteration 890 : Loss 2923.0041\n",
      "Iteration 900 : Loss 2922.0689\n",
      "Iteration 910 : Loss 2921.1719\n",
      "Iteration 920 : Loss 2920.3113\n",
      "Iteration 930 : Loss 2919.4855\n",
      "Iteration 940 : Loss 2918.6930\n",
      "Iteration 950 : Loss 2917.9323\n",
      "Iteration 960 : Loss 2917.2021\n",
      "Iteration 970 : Loss 2916.5009\n",
      "Iteration 980 : Loss 2915.8277\n",
      "Iteration 990 : Loss 2915.1810\n"
     ]
    }
   ],
   "source": [
    "# Step 9\n",
    "num_iter = 1000\n",
    "losses = []\n",
    "\n",
    "for i in range(0, num_iter):\n",
    "    dW, db = delop(X_train, W, b, y_train)\n",
    "    W -= LEARNING_RATE * dW\n",
    "    b -= LEARNING_RATE * db\n",
    "    L = loss(X_train, W, b, y_train)\n",
    "    losses.append(L)\n",
    "    if i % 10 == 0:\n",
    "        print('Iteration %d : Loss %0.4f' % (i, L))"
   ]
  },
  {
   "cell_type": "code",
   "execution_count": 9,
   "id": "0d93dc9f",
   "metadata": {},
   "outputs": [
    {
     "name": "stdout",
     "output_type": "stream",
     "text": [
      "W: [  41.90446223 -203.23296205  509.74980245  324.96778976  -70.76240309\n",
      " -119.4689366  -216.18160566  144.41167529  376.53925967  111.84780224] \n",
      "b: 151.37254822409574\n",
      "\n",
      "MSE for X_test w/ the trained model: 2866.9267669113215\n"
     ]
    }
   ],
   "source": [
    "# Step 10\n",
    "print (\"W:\", W, \"\\nb:\", b)\n",
    "\n",
    "pred = model(X_test, W, b)\n",
    "loss_X_test = loss(X_test, W, b, y_test)\n",
    "print(\"\\nMSE for X_test w/ the trained model:\", loss_X_test)"
   ]
  },
  {
   "cell_type": "code",
   "execution_count": 10,
   "id": "275b7c0b",
   "metadata": {},
   "outputs": [
    {
     "data": {
      "image/png": "[encoded data removed]",
      "text/plain": [
       "<Figure size 432x288 with 1 Axes>"
      ]
     },
     "metadata": {
      "needs_background": "light"
     },
     "output_type": "display_data"
    },
    {
     "name": "stdout",
     "output_type": "stream",
     "text": [
      "Note that x-axis represents the age of patients, which looks weird because it's normalized about zero\n"
     ]
    }
   ],
   "source": [
    "# Step 11\n",
    "import matplotlib.pyplot as plt\n",
    "\n",
    "plt.scatter(X_test[:, 0], y_test, label=\"true\")\n",
    "plt.scatter(X_test[:, 0], pred, label=\"pred\")\n",
    "plt.legend()\n",
    "plt.show()\n",
    "print(\"Note that x-axis represents the age of patients, which looks weird because it's normalized about zero\")"
   ]
  },
  {
   "cell_type": "code",
   "execution_count": null,
   "id": "d0a45304",
   "metadata": {},
   "outputs": [],
   "source": []
  }
 ],
 "metadata": {
  "kernelspec": {
   "display_name": "Python 3 (ipykernel)",
   "language": "python",
   "name": "python3"
  },
  "language_info": {
   "codemirror_mode": {
    "name": "ipython",
    "version": 3
   },
   "file_extension": ".py",
   "mimetype": "text/x-python",
   "name": "python",
   "nbconvert_exporter": "python",
   "pygments_lexer": "ipython3",
   "version": "3.9.7"
  }
 },
 "nbformat": 4,
 "nbformat_minor": 5
}
